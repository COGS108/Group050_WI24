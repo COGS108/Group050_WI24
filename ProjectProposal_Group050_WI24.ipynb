{
 "cells": [
  {
   "cell_type": "markdown",
   "metadata": {},
   "source": [
    "# COGS 108 - Project Proposal"
   ]
  },
  {
   "cell_type": "markdown",
   "metadata": {},
   "source": [
    "# Names\n",
    " Inna Amogolonova \\\n",
    " Dawson Tam \\\n",
    " Kate Zhou \\\n",
    " Tyler May \\\n",
    " Charvi Shukla "
   ]
  },
  {
   "cell_type": "markdown",
   "metadata": {},
   "source": [
    "# Research Question"
   ]
  },
  {
   "cell_type": "markdown",
   "metadata": {},
   "source": [
    "-  Include a specific, clear data science question.\n",
    "-  Make sure what you're measuring (variables) to answer the question is clear\n",
    "\n",
    "What is your research question? Include the specific question you're setting out to answer. This question should be specific, answerable with data, and clear. A general question with specific subquestions is permitted. (1-2 sentences) \n",
    "\n",
    "**How does a bachelor’s degree affect a new graduate’s ability to get a job in IT 20 years ago vs. today?**\n",
    "\n"
   ]
  },
  {
   "cell_type": "markdown",
   "metadata": {},
   "source": [
    "## Background and Prior Work"
   ]
  },
  {
   "cell_type": "markdown",
   "metadata": {},
   "source": [
    "\n",
    "- Include a general introduction to your topic\n",
    "- Include explanation of what work has been done previously\n",
    "- Include citations or links to previous work\n",
    "\n",
    "This section will present the background and context of your topic and question in a few paragraphs. Include a general introduction to your topic and then describe what information you currently know about the topic after doing your initial research. Include references to other projects who have asked similar questions or approached similar problems. Explain what others have learned in their projects.\n",
    "\n",
    "Find some relevant prior work, and reference those sources, summarizing what each did and what they learned. Even if you think you have a totally novel question, find the most similar prior work that you can and discuss how it relates to your project.\n",
    "\n",
    "References can be research publications, but they need not be. Blogs, GitHub repositories, company websites, etc., are all viable references if they are relevant to your project. It must be clear which information comes from which references. (2-3 paragraphs, including at least 2 references)\n",
    "\n",
    " **Use inline citation through HTML footnotes to specify which references support which statements** \n",
    "\n",
    "For example: After government genocide in the 20th century, real birds were replaced with surveillance drones designed to look just like birds.<a name=\"cite_ref-1\"></a>[<sup>1</sup>](#cite_note-1) Use a minimum of 2 or 3 citations, but we prefer more.<a name=\"cite_ref-2\"></a>[<sup>2</sup>](#cite_note-2) You need enough to fully explain and back up important facts. \n",
    "\n",
    "Note that if you click a footnote number in the paragraph above it will transport you to the proper entry in the footnotes list below.  And if you click the ^ in the footnote entry, it will return you to the place in the main text where the footnote is made.\n",
    "\n",
    "To understand the HTML here, `<a name=\"#...\"> </a>` is a tag that allows you produce a named reference for a given location.  Markdown has the construciton `[text with hyperlink](#named reference)` that will produce a clickable link that transports you the named reference.\n",
    "\n",
    "1. <a name=\"cite_note-1\"></a> [^](#cite_ref-1) Lorenz, T. (9 Dec 2021) Birds Aren’t Real, or Are They? Inside a Gen Z Conspiracy Theory. *The New York Times*. https://www.nytimes.com/2021/12/09/technology/birds-arent-real-gen-z-misinformation.html \n",
    "2. <a name=\"cite_note-2\"></a> [^](#cite_ref-2) Also refs should be important to the background, not some randomly chosen vaguely related stuff. Include a web link if possible in refs as above.\n"
   ]
  },
  {
   "cell_type": "markdown",
   "metadata": {},
   "source": [
    "As we are approaching graduation, many of us undergraduate students are concerned about finding a job after we graduate. On top of the stress of job hunting, there are many layoffs in the tech industry as well as declining employment rate in many tech related fields. According to this article from *Dice*. <a name=\"cite_ref-1\"></a>[<sup>1</sup>](#cite_note-1), you don’t even need a 4 year degree in order to find a tech related job. This all begs the question: “With a bachelor’s degree, how likely are we to be employed after college?”\n",
    "\n",
    "With the rise of online education and resources on various technical topics the need for even a Bachelor’s Degree in a technical field might have decreased. Nowadays some companies are prioritizing the self-taught skills their employees possess more than the four year degrees they hold <a name=\"cite_ref-2\"></a>[<sup>2</sup>](#cite_note-2). At the same time, the job market in the tech industry has become more competitive over the past few years and a higher education degree might now be a necessity to make one stand out from a large pool of applicants. This article.<a name=\"cite_ref-3\"></a>[<sup>3</sup>](#cite_note-3) suggests that to secure a higher management position in IT or to set oneself apart from other candidates a Master’s Degree might be beneficial. This research publication.<a name=\"cite_ref-4\"></a>[<sup>4</sup>](#cite_note-4) states that while finding a job out of college is a difficult task, new undergraduate graduates have faced more struggles in finding jobs in their field of expertise out of college than two decades ago. With this project we aim to uncover the relationship between how a Bachelor’s Degree affects a recent graduate’s ability to find a job in the tech industry, specifically IT, now compared to 20 years ago. \n",
    "\n",
    "\n",
    "1. <a name=\"cite_note-1\"></a> [^](#cite_ref-1) Brian T. Horowitz (28 Aug 2023) Do You Need a Four-Year Degree to Get a Job in Tech?. *DICE*. https://www.dice.com/career-advice/do-you-need-a-four-year-degree-to-get-a-job-in-tech\n",
    "2. <a name=\"cite_note-2\"></a> [^](#cite_ref-2) Mairead Kelly (9 March 2020) Do Graduate Degrees Matter in the Tech Industry? *Resources Noodle* https://resources.noodle.com/articles/do-graduate-degrees-matter-in-the-tech-industry/\n",
    "3. <a name=\"cite_note-3\"></a> [^](#cite_ref-3) Is a Master’s Degree in Information Technology Worth It?  *Back to College Blog*. https://www.franklin.edu/blog/is-a-masters-degree-in-information-technology-worth-it\n",
    "4. <a name=\"cite_note-4\"></a> [^](#cite_ref-4) Jaison R. Abel, Richard Deitz, Yaqin Su (13 Jan 2023) Are Recent College Graduates Finding Good Jobs? *SSRN* https://papers.ssrn.com/sol3/papers.cfm?abstract_id=2378472"
   ]
  },
  {
   "cell_type": "markdown",
   "metadata": {},
   "source": [
    "# Hypothesis\n"
   ]
  },
  {
   "cell_type": "markdown",
   "metadata": {},
   "source": [
    "\n",
    "- Include your team's hypothesis: \n",
    "- Ensure that this hypothesis is clear to readers. \n",
    "- Explain why you think this will be the outcome (what was your thinking?)\n",
    "\n",
    "**What is your main hypothesis/predictions about what the answer to your question is? Briefly explain your thinking. (2-3 sentences)** \\\n",
    "Hypothesis: A bachelor’s degree has less of an effect on a new graduate's ability to land a job in IT compared to 20 years ago. \n",
    "\n",
    "A Bachelor’s Degree has less of an effect on a new graduate's ability to land a job in IT compared to 20 years ago. Today, many job listings state Master’s Degree or higher as a minimum qualification. Thus, a bachelor’s degree would be less effective. This may be because of development of new and complex technologies that were not previously available. \n",
    "\n",
    " \n",
    " ---\n",
    "\n"
   ]
  },
  {
   "cell_type": "markdown",
   "metadata": {},
   "source": [
    "# Data"
   ]
  },
  {
   "cell_type": "markdown",
   "metadata": {},
   "source": [
    "1. Explain what the **ideal** dataset you would want to answer this question. (This should include: What variables? How many observations? Who/what/how would these data be collected? How would these data be stored/organized?)\n",
    "2. Search for potential **real** datasets that could provide you with something useful for this project.  You do not have to find every piece of data you will use, but you do need to have demonstrated some idea that (a) this data is gettable and (b) that this data may be different from what your ideal is."
   ]
  },
  {
   "cell_type": "markdown",
   "metadata": {},
   "source": [
    "1. **Potential variables:** Number of job listings, highest level of education applicant has, how many applicants got the job, number of applications for particular listing\n",
    "2. **Number of job listings:** int, highest level: string, number of applications: int, got the job: bool.\n",
    "3. **Size** Have more than >10,000 rows in the dataset.\n",
    "4. Individual new grads with Bachelor’s Degrees \n",
    "   - One dataset is from 20 years ago \n",
    "   - One dataset is from current time.\n",
    "\n",
    "\n",
    "We could potentially work with the \"Job Dataset\"<a name=\"cite_ref-1\"></a>[<sup>1</sup>](#cite_note-1) from Kaggle since it contains columns for:\n",
    "- Experience\n",
    "- Qualifications\n",
    "- Job Title\n",
    "- Company Name\n",
    "\n",
    "These parameters could come in handy when determining the impact of \"Qualifications\" on the number of people that apply for jobs.\n",
    "\n",
    "Another dataset that we could use is US government census data<a name=\"cite_ref-2\"></a>[<sup>2</sup>](#cite_note-2) to see how many people *get* these jobs compared to the number of applications.\n",
    "\n",
    "\n",
    "1. <a name=\"cite_note-1\"></a> [^](#cite_ref-1) Ravinder Singh Rana. A Comprehensive Job Dataset for Data Science, Research, and Analysis. *Kaggle*. https://www.kaggle.com/datasets/ravindrasinghrana/job-description-dataset\n",
    "2. <a name=\"cite_ref-2\"></a>[<sup>2</sup>](#cite_note-2) (24 Feb 2022) *Census.gov* https://www.census.gov/data/tables/2021/demo/educational-attainment/cps-detailed-tables.html"
   ]
  },
  {
   "cell_type": "markdown",
   "metadata": {},
   "source": [
    "# Ethics & Privacy"
   ]
  },
  {
   "cell_type": "markdown",
   "metadata": {},
   "source": [
    "- Thoughtful discussion of ethical concerns included\n",
    "- Ethical concerns consider the whole data science process (question asked, data collected, data being used, the bias in data, analysis, post-analysis, etc.)\n",
    "- How your group handled bias/ethical concerns clearly described\n",
    "\n",
    "Acknowledge and address any ethics & privacy related issues of your question(s), proposed dataset(s), and/or analyses. Use the information provided in lecture to guide your group discussion and thinking. If you need further guidance, check out [Deon's Ethics Checklist](http://deon.drivendata.org/#data-science-ethics-checklist). In particular:\n",
    "\n",
    "- Are there any biases/privacy/terms of use issues with the data you propsed?\n",
    "- Are there potential biases in your dataset(s), in terms of who it composes, and how it was collected, that may be problematic in terms of it allowing for equitable analysis? (For example, does your data exclude particular populations, or is it likely to reflect particular human biases in a way that could be a problem?)\n",
    "- How will you set out to detect these specific biases before, during, and after/when communicating your analysis?\n",
    "- Are there any other issues related to your topic area, data, and/or analyses that are potentially problematic in terms of data privacy and equitable impact?\n",
    "- How will you handle issues you identified?"
   ]
  },
  {
   "cell_type": "markdown",
   "metadata": {},
   "source": [
    "Yes, there are some biases in this study we are conducting. For example, if we are comparing the relevancy of the Bachelor’s Degree now versus 20 years ago. It is skewed so that the BS would mean more back then because back then, the internet was not as developed as it was today. Today, there are many means of obtaining an education besides just going to college, thus there are more options today. Back then however, getting a degree held more significance as it was the predominant source of education.\n",
    "\n",
    "If the dataset contains personally identifiable information (PII) and is not properly anonymized, we might expose individuals' privacy of their level of education and job experiences.\n",
    "\n",
    "Before starting our analysis we should ensure that our dataset is large enough and covers a diverse range of applicants to try to minimize any existing biases of the dataset. During our analysis we pay close attention to the patterns in our data and how the biases in our dataset might have had an effect on them. When writing and finalizing our analysis we will discuss how biases of the dataset might have skewed our results and conclusions.  \n"
   ]
  },
  {
   "cell_type": "markdown",
   "metadata": {},
   "source": [
    "# Team Expectations "
   ]
  },
  {
   "cell_type": "markdown",
   "metadata": {},
   "source": [
    "\n",
    "Read over the [COGS108 Team Policies](https://github.com/COGS108/Projects/blob/master/COGS108_TeamPolicies.md) individually. Then, include your group’s expectations of one another for successful completion of your COGS108 project below. Discuss and agree on what all of your expectations are. Discuss how your team will communicate throughout the quarter and consider how you will communicate respectfully should conflicts arise. By including each member’s name above and by adding their name to the submission, you are indicating that you have read the COGS108 Team Policies, accept your team’s expectations below, and have every intention to fulfill them. These expectations are for your team’s use and benefit — they won’t be graded for their details.\n",
    "\n",
    "\n",
    "Our team came up with the following guidelines: \n",
    "* Our group is planning to meet bi-weekly to check on each other’s progress as well as to assign our next steps. \n",
    "* We plan on using Discord as our primary communication. \n",
    "* Messages on discord should be responded to within a day.\n",
    "* If any of us need to miss one of the meetings, we must make sure that we effectively communicate that in the discord. \n",
    "* Communicate if you’re not able to complete your assignment on time and ask for help in the discord. \n",
    "* Make sure to pull from the working branch on GH so that our data/progress is kept clean. \n"
   ]
  },
  {
   "cell_type": "markdown",
   "metadata": {},
   "source": [
    "# Project Timeline Proposal"
   ]
  },
  {
   "cell_type": "markdown",
   "metadata": {},
   "source": [
    "Specify your team's specific project timeline. An example timeline has been provided. Changes the dates, times, names, and details to fit your group's plan.\n",
    "\n",
    "If you think you will need any special resources or training outside what we have covered in COGS 108 to solve your problem, then your proposal should state these clearly. For example, if you have selected a problem that involves implementing multiple neural networks, please state this so we can make sure you know what you’re doing and so we can point you to resources you will need to implement your project. Note that you are not required to use outside methods.\n",
    "\n",
    "\n",
    "\n",
    "| Meeting Date | Meeting Time | Completed Before Meeting | Discuss at Meeting |\n",
    "|--------------|--------------|--------------------------|--------------------|\n",
    "| 2/15 | 1:30 pm - 2:30 pm | Pick dataset by this date | Get approvals from everyone on the dataset. |\n",
    "| 2/20 |  1:30 pm - 2:30 pm | Have data cleaned by this date | Any debugging issues, final resuls |\n",
    "| 2/25 |  1:30 pm - 2:30 pm | Dataset defined and described; Data cleaned | General meeting to discuss the steps of our analysis |\n",
    "| 3/7 |  1:30 pm - 2:30 pm | Analysis and results draft by this date | Discuss the results of the analysis |\n",
    "| 3/12 |  1:30 pm - 2:30 pm | Final report draft by this date | Proof read the final report draft. Discuss the video logistics|\n",
    "| 3/15 |  1:30 pm - 2:30 pm | Video logistics done by this date | General project review, video recording |\n",
    "| 3/20 | Before 11:59 PM | Everything else! | Turn in Final Project & Group Project Surveys |\n",
    "\n",
    "\n",
    "- We do not plan to use multiple neural networks, but a general direction towards how to structure our project, determine what subsections to include etc, might be useful.\n"
   ]
  },
  {
   "cell_type": "code",
   "execution_count": null,
   "metadata": {},
   "outputs": [],
   "source": []
  }
 ],
 "metadata": {
  "kernelspec": {
   "display_name": "Python 3 (ipykernel)",
   "language": "python",
   "name": "python3"
  },
  "language_info": {
   "codemirror_mode": {
    "name": "ipython",
    "version": 3
   },
   "file_extension": ".py",
   "mimetype": "text/x-python",
   "name": "python",
   "nbconvert_exporter": "python",
   "pygments_lexer": "ipython3",
   "version": "3.10.4"
  }
 },
 "nbformat": 4,
 "nbformat_minor": 4
}
